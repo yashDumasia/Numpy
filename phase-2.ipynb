{
 "cells": [
  {
   "cell_type": "markdown",
   "id": "921d3e84",
   "metadata": {},
   "source": [
    "# Numpy Array Operation :"
   ]
  },
  {
   "cell_type": "code",
   "execution_count": null,
   "id": "68c0a1cb",
   "metadata": {},
   "outputs": [],
   "source": [
    "import numpy as np"
   ]
  },
  {
   "cell_type": "code",
   "execution_count": 28,
   "id": "126f7daa",
   "metadata": {},
   "outputs": [
    {
     "name": "stdout",
     "output_type": "stream",
     "text": [
      "Basic Slicing : [3 4 5 6 7]\n",
      "With Step Slicing : [1 3 5 7 9]\n",
      "Negative Slicing : [3 4 5]\n"
     ]
    }
   ],
   "source": [
    "arr = np.array([1,2,3,4,5,6,7,8,9,10])\n",
    "print (\"Basic Slicing :\",arr[2:7])\n",
    "print (\"With Step Slicing :\",arr[0:10:2])\n",
    "print (\"Negative Slicing :\",arr[-8:-5])"
   ]
  },
  {
   "cell_type": "code",
   "execution_count": 72,
   "id": "4113274d",
   "metadata": {},
   "outputs": [
    {
     "name": "stdout",
     "output_type": "stream",
     "text": [
      "2D Array :\n",
      " [[1 2 3]\n",
      " [4 5 6]\n",
      " [7 8 9]]\n",
      "Specific Element : 3\n",
      "Entrie Row : [4 5 6]\n",
      "Entrie Collumn : [2 5 8]\n"
     ]
    }
   ],
   "source": [
    "arr_2D = np.array([[1,2,3],[4,5,6],[7,8,9]]) \n",
    "print(\"2D Array :\\n\", arr_2D)\n",
    "print(\"Specific Element :\",arr_2D[0,2])\n",
    "print(\"Entrie Row :\",arr_2D[1,:])\n",
    "print(\"Entrie Collumn :\",arr_2D[:,1])"
   ]
  },
  {
   "cell_type": "markdown",
   "id": "0d1dc8b9",
   "metadata": {},
   "source": [
    "# Sorting :"
   ]
  },
  {
   "cell_type": "code",
   "execution_count": 95,
   "id": "5b9331b9",
   "metadata": {},
   "outputs": [
    {
     "name": "stdout",
     "output_type": "stream",
     "text": [
      "Unsorted Array : [2 8 6 4 3 1 2 9]\n",
      "Sorted Array : [1 2 2 3 4 6 8 9]\n",
      "\n",
      "\n",
      "Unsorted 2D Array :\n",
      " [[2 5 9]\n",
      " [1 4 3]\n",
      " [8 6 2]]\n",
      "Sorted 2D Array :\n",
      " [[2 5 9]\n",
      " [1 3 4]\n",
      " [2 6 8]]\n",
      "Sorted 2D Array by Collumn : [4 5 6]\n",
      "Sorted 2D Array by Row : [1 3 4]\n",
      "Sorted 2D Array by Row :\n",
      " [[2 5 9]\n",
      " [1 3 4]\n",
      " [2 6 8]]\n",
      "Sorted 2D Array by Collumn :\n",
      " [[1 4 2]\n",
      " [2 5 3]\n",
      " [8 6 9]]\n"
     ]
    }
   ],
   "source": [
    "unsorted = np.array([2,8,6,4,3,1,2,9])\n",
    "\n",
    "print(\"Unsorted Array :\",unsorted)\n",
    "\n",
    "print(\"Sorted Array :\",np.sort(unsorted))\n",
    "\n",
    "\n",
    "print(\"\\n\")\n",
    "\n",
    "\n",
    "arr_2D_unsorted = np.array([[2,5,9],[1,4,3],[8,6,2]])\n",
    "\n",
    "print(\"Unsorted 2D Array :\\n\",arr_2D_unsorted)\n",
    "\n",
    "print(\"Sorted 2D Array :\\n\",np.sort(arr_2D_unsorted))\n",
    "\n",
    "print(\"Sorted 2D Array by Collumn :\",np.sort(arr_2D_unsorted[:,1]))\n",
    "\n",
    "print(\"Sorted 2D Array by Row :\",np.sort(arr_2D_unsorted[1,:]))\n",
    "\n",
    "# sort by axis\n",
    "\n",
    "print(\"Sorted 2D Array by Row :\\n\",np.sort(arr_2D_unsorted,axis = 1))\n",
    "\n",
    "print(\"Sorted 2D Array by Collumn :\\n\",np.sort(arr_2D_unsorted,axis = 0))\n"
   ]
  },
  {
   "cell_type": "markdown",
   "id": "0efab1bd",
   "metadata": {},
   "source": [
    "# Filter :"
   ]
  },
  {
   "cell_type": "code",
   "execution_count": 17,
   "id": "e2a1455b",
   "metadata": {},
   "outputs": [
    {
     "name": "stdout",
     "output_type": "stream",
     "text": [
      "Even Numbers : [ 2  4  6  8 10]\n",
      "Odd Numbers : [1 3 5 7 9]\n"
     ]
    }
   ],
   "source": [
    "number = np.array([1,2,3,4,5,6,7,8,9,10])\n",
    "\n",
    "even_number = number[number % 2 == 0]\n",
    "print(\"Even Numbers :\",even_number)\n",
    "\n",
    "# Filter with Mask\n",
    "\n",
    "mask = number % 2 != 0\n",
    "odd_number = number[mask]\n",
    "print(\"Odd Numbers :\",odd_number)"
   ]
  },
  {
   "cell_type": "markdown",
   "id": "313f05f6",
   "metadata": {},
   "source": [
    "# Fancy Indexing Vs np.where() :"
   ]
  },
  {
   "cell_type": "code",
   "execution_count": 22,
   "id": "97c08675",
   "metadata": {},
   "outputs": [
    {
     "name": "stdout",
     "output_type": "stream",
     "text": [
      "Indexing : [1 3 5 7 9]\n",
      "np where : [ 6  7  8  9 10]\n"
     ]
    }
   ],
   "source": [
    "number = np.array([1,2,3,4,5,6,7,8,9,10])\n",
    "indices = [0,2,4,6,8]\n",
    "print(\"Indexing :\",number[indices]) \n",
    "\n",
    "where_result = np.where(number >5)\n",
    "print(\"np where :\",number[where_result])"
   ]
  },
  {
   "cell_type": "code",
   "execution_count": 50,
   "id": "29869cea",
   "metadata": {},
   "outputs": [
    {
     "name": "stdout",
     "output_type": "stream",
     "text": [
      "[ 1  2  3  4  5 12 14 16 18 20]\n"
     ]
    }
   ],
   "source": [
    "condition_array = np.where(number > 5, number*2,number)\n",
    "#It is worked like given below code\n",
    "# if number > 5:\n",
    "#    number*2\n",
    "# else:\n",
    "#    number\n",
    "print(condition_array)"
   ]
  },
  {
   "cell_type": "markdown",
   "id": "3b7ef227",
   "metadata": {},
   "source": [
    "# Adding and Removing Data :"
   ]
  },
  {
   "cell_type": "code",
   "execution_count": 49,
   "id": "9ce55a79",
   "metadata": {},
   "outputs": [
    {
     "name": "stdout",
     "output_type": "stream",
     "text": [
      "Combine Array : [1 2 3 4 5 6]\n"
     ]
    }
   ],
   "source": [
    "arr_1 = np.array([1,2,3])\n",
    "arr_2 = np.array([4,5,6])\n",
    "\n",
    "combaine_array = np.concatenate((arr_1, arr_2))\n",
    "print(\"Combine Array :\",combaine_array)\n"
   ]
  },
  {
   "cell_type": "markdown",
   "id": "8e748e6a",
   "metadata": {},
   "source": [
    "### Array Compatibilty :"
   ]
  },
  {
   "cell_type": "code",
   "execution_count": 78,
   "id": "dec11cbb",
   "metadata": {},
   "outputs": [
    {
     "name": "stdout",
     "output_type": "stream",
     "text": [
      "Compatiblity Shapes : True\n"
     ]
    }
   ],
   "source": [
    "a = np.array([1,2,3])\n",
    "b = np.array([4,5,6])\n",
    "c = np.array([7,8,9])\n",
    "\n",
    "print(\"Compatiblity Shapes :\",a.shape == b.shape == c.shape)\n"
   ]
  },
  {
   "cell_type": "markdown",
   "id": "dfe5192d",
   "metadata": {},
   "source": [
    "### Use of stake :"
   ]
  },
  {
   "cell_type": "code",
   "execution_count": 77,
   "id": "23d0ae8b",
   "metadata": {},
   "outputs": [
    {
     "name": "stdout",
     "output_type": "stream",
     "text": [
      "Original :\n",
      " [[1 2]\n",
      " [3 4]]\n",
      "\n",
      "\n",
      "Add New Row :\n",
      " [[1 2]\n",
      " [3 4]\n",
      " [5 6]]\n",
      "\n",
      "\n",
      "Add New Collumn :\n",
      " [[1 2 7]\n",
      " [3 4 8]]\n"
     ]
    }
   ],
   "source": [
    "original = np.array([[1,2],[3,4]])\n",
    "print(\"Original :\\n\",original)\n",
    "\n",
    "print(\"\\n\")\n",
    "\n",
    "new_row = np.array([5,6])\n",
    "with_new_row = np.vstack((original,new_row))\n",
    "print(\"Add New Row :\\n\",with_new_row)\n",
    "\n",
    "print(\"\\n\")\n",
    "\n",
    "new_col = ([[7],[8]])\n",
    "with_new_col = np.hstack((original,new_col))\n",
    "print(\"Add New Collumn :\\n\",with_new_col)"
   ]
  },
  {
   "cell_type": "markdown",
   "id": "b5824470",
   "metadata": {},
   "source": [
    "### Delete Data from Array :"
   ]
  },
  {
   "cell_type": "code",
   "execution_count": 91,
   "id": "b0a7ac79",
   "metadata": {},
   "outputs": [
    {
     "name": "stdout",
     "output_type": "stream",
     "text": [
      "Original Array : [1 8 9 7]\n",
      "After Delete : [1 9 7]\n",
      "After Delete : [1 9]\n"
     ]
    }
   ],
   "source": [
    "arr = np.array([1,8,9,7])\n",
    "print(\"Original Array :\",arr)\n",
    "\n",
    "delete = np.delete(arr,1)\n",
    "print(\"After Delete :\",delete)\n",
    "\n",
    "delete = np.delete(arr,[1,3])\n",
    "print(\"After Delete :\",delete)\n"
   ]
  }
 ],
 "metadata": {
  "kernelspec": {
   "display_name": "venv",
   "language": "python",
   "name": "python3"
  },
  "language_info": {
   "codemirror_mode": {
    "name": "ipython",
    "version": 3
   },
   "file_extension": ".py",
   "mimetype": "text/x-python",
   "name": "python",
   "nbconvert_exporter": "python",
   "pygments_lexer": "ipython3",
   "version": "3.13.5"
  }
 },
 "nbformat": 4,
 "nbformat_minor": 5
}
