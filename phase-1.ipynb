{
 "cells": [
  {
   "cell_type": "markdown",
   "id": "e7c3914b",
   "metadata": {},
   "source": [
    "# Numpy Array and Basics"
   ]
  },
  {
   "cell_type": "code",
   "execution_count": 11,
   "id": "a6d393fa",
   "metadata": {},
   "outputs": [],
   "source": [
    "import numpy as np"
   ]
  },
  {
   "cell_type": "markdown",
   "id": "f57ef2c7",
   "metadata": {},
   "source": [
    "### Creating Arrays from list"
   ]
  },
  {
   "cell_type": "code",
   "execution_count": 12,
   "id": "3dc4e5fb",
   "metadata": {},
   "outputs": [
    {
     "name": "stdout",
     "output_type": "stream",
     "text": [
      "1-D Array : [1 2 3 4]\n",
      "2-D Array : [[1 2 3]\n",
      " [4 5 6]]\n"
     ]
    }
   ],
   "source": [
    "arr_1d = np.array([1,2,3,4])\n",
    "print(f\"1-D Array : {arr_1d}\")\n",
    "\n",
    "arr_2d = np.array([[1,2,3],[4,5,6]])\n",
    "print(f\"2-D Array : {arr_2d}\")"
   ]
  },
  {
   "cell_type": "markdown",
   "id": "3ba844a9",
   "metadata": {},
   "source": [
    "### List Vs Numpy Array"
   ]
  },
  {
   "cell_type": "code",
   "execution_count": 13,
   "id": "f8b33a52",
   "metadata": {},
   "outputs": [
    {
     "name": "stdout",
     "output_type": "stream",
     "text": [
      "[1, 2, 3, 4]\n",
      "Python list multiplication :  [1, 2, 3, 4, 1, 2, 3, 4]\n",
      "[1 2 3 4]\n",
      "Python array multiplication :  [2 4 6 8]\n",
      "\n",
      "\n",
      "List operetion time : 0.055527687072753906\n",
      "\n",
      "\n",
      "Numpy operetion time : 0.005555152893066406\n"
     ]
    }
   ],
   "source": [
    "\n",
    "py_list = [1,2,3,4]\n",
    "print(py_list)\n",
    "print(\"Python list multiplication : \",py_list * 2)\n",
    "\n",
    "np_array = np.array([1,2,3,4])\n",
    "print(np_array)\n",
    "print(\"Python array multiplication : \",np_array * 2)\n",
    "\n",
    "\n",
    "\n",
    "import time\n",
    "\n",
    "start = time.time()\n",
    "py_list = [i*2 for i in range(1000000)]\n",
    "end = time.time()\n",
    "print(\"\\n\")\n",
    "print(f\"List operetion time : {end - start}\")\n",
    "\n",
    "start = time.time()\n",
    "np_array = np.arange(1000000)*2\n",
    "end = time.time()\n",
    "print(\"\\n\")\n",
    "print(f\"Numpy operetion time : {end - start}\")\n"
   ]
  },
  {
   "cell_type": "markdown",
   "id": "4ea17be8",
   "metadata": {},
   "source": [
    "### Creating Array from scratch"
   ]
  },
  {
   "cell_type": "code",
   "execution_count": null,
   "id": "488ed719",
   "metadata": {},
   "outputs": [
    {
     "name": "stdout",
     "output_type": "stream",
     "text": [
      "Zeros Array : \n",
      " [[0. 0. 0. 0.]\n",
      " [0. 0. 0. 0.]\n",
      " [0. 0. 0. 0.]]\n",
      "\n",
      "\n",
      "Ones Array : \n",
      " [[1. 1. 1. 1.]\n",
      " [1. 1. 1. 1.]]\n",
      "\n",
      "\n",
      "Full Array : \n",
      " [[7 7]\n",
      " [7 7]]\n",
      "\n",
      "\n",
      "Random Array : \n",
      " [[0.11957394 0.45868245]\n",
      " [0.20387823 0.13671315]]\n",
      "\n",
      "\n",
      "Sequence Array : \n",
      " [0 2 4 6 8]\n"
     ]
    }
   ],
   "source": [
    "zeros = np.zeros((3,4))\n",
    "print(\"Zeros Array : \\n\",zeros)\n",
    "\n",
    "print(\"\\n\")\n",
    "\n",
    "ones = np.ones((2,4))\n",
    "print(\"Ones Array : \\n\",ones)\n",
    "\n",
    "print(\"\\n\")\n",
    "\n",
    "full = np.full((2,2),7)\n",
    "print(\"Full Array : \\n\",full)\n",
    "\n",
    "print(\"\\n\")\n",
    "\n",
    "random = np.random.random((2,2))\n",
    "print(\"Random Array : \\n\",random)\n",
    "\n",
    "print(\"\\n\")\n",
    "\n",
    "sequence = np.arange(0,10,2)\n",
    "print(\"Sequence Array : \\n\",sequence)\n"
   ]
  },
  {
   "cell_type": "markdown",
   "id": "0e529583",
   "metadata": {},
   "source": [
    "### Vector , Matrix and Tensor"
   ]
  },
  {
   "cell_type": "code",
   "execution_count": null,
   "id": "5ef7bb39",
   "metadata": {},
   "outputs": [
    {
     "name": "stdout",
     "output_type": "stream",
     "text": [
      "Vector :  [1 2 3]\n",
      "Matrix : \n",
      " [[1 2 3]\n",
      " [4 5 6]]\n",
      "Tensor : \n",
      " [[[1 2]\n",
      "  [3 4]]\n",
      "\n",
      " [[5 6]\n",
      "  [7 8]]]\n"
     ]
    }
   ],
   "source": [
    "Vector = np.array([1,2,3])\n",
    "print(\"Vector : \", Vector)\n",
    "\n",
    "Matrix = np.array([[1,2,3],[4,5,6]])\n",
    "print(\"Matrix : \\n\", Matrix)\n",
    "\n",
    "Tensor = np.array([[[1,2],[3,4]],[[5,6],[7,8]]])\n",
    "print(\"Tensor : \\n\", Tensor)\n"
   ]
  },
  {
   "cell_type": "markdown",
   "id": "1a248e88",
   "metadata": {},
   "source": [
    "### Array Properties"
   ]
  },
  {
   "cell_type": "code",
   "execution_count": null,
   "id": "e57b2813",
   "metadata": {},
   "outputs": [
    {
     "name": "stdout",
     "output_type": "stream",
     "text": [
      "Array : \n",
      " [[1 2 3]\n",
      " [4 5 6]]\n",
      "Shape of Array : (2, 3)\n",
      "Dimension of Array : 2\n",
      "Size of Array : 6\n",
      "Data Type of Array : int64\n"
     ]
    }
   ],
   "source": [
    "arr = np.array([[1,2,3],[4,5,6]])\n",
    "print(\"Array : \\n\", arr)\n",
    "print(\"Shape of Array :\", arr.shape) \n",
    "print(\"Dimension of Array :\", arr.ndim)\n",
    "print(\"Size of Array :\", arr.size)\n",
    "print(\"Data Type of Array :\", arr.dtype)\n"
   ]
  },
  {
   "cell_type": "markdown",
   "id": "99933c79",
   "metadata": {},
   "source": [
    "### Array Reshaping "
   ]
  },
  {
   "cell_type": "code",
   "execution_count": 7,
   "id": "c8b35ed6",
   "metadata": {},
   "outputs": [
    {
     "name": "stdout",
     "output_type": "stream",
     "text": [
      "Original Array : [ 1  2  3  4  5  6  7  8  9 10 11 12]\n",
      "\n",
      "\n",
      "Reshape Array :\n",
      " [[ 1  2  3  4]\n",
      " [ 5  6  7  8]\n",
      " [ 9 10 11 12]]\n",
      "\n",
      "\n",
      "Flattened Array : [ 1  2  3  4  5  6  7  8  9 10 11 12]\n",
      "\n",
      "\n",
      "Ravelled Array : [ 1  2  3  4  5  6  7  8  9 10 11 12]\n",
      "\n",
      "\n",
      "Transposed Array :\n",
      " [[ 1  5  9]\n",
      " [ 2  6 10]\n",
      " [ 3  7 11]\n",
      " [ 4  8 12]]\n"
     ]
    }
   ],
   "source": [
    "arr = np.arange(1,13)\n",
    "print(\"Original Array :\", arr)\n",
    "\n",
    "print(\"\\n\")\n",
    "\n",
    "reshape = arr.reshape((3,4))\n",
    "print(\"Reshape Array :\\n\", reshape)\n",
    "\n",
    "print(\"\\n\")\n",
    "\n",
    "flattend = reshape.flatten()\n",
    "print(\"Flattened Array :\", flattend)\n",
    "\n",
    "print(\"\\n\")\n",
    "\n",
    "ravel = reshape.ravel()#reval return veiw instaed of copy\n",
    "print(\"Ravelled Array :\", ravel)\n",
    "\n",
    "print(\"\\n\")\n",
    "\n",
    "transposed = reshape.T\n",
    "print(\"Transposed Array :\\n\", transposed)"
   ]
  },
  {
   "cell_type": "code",
   "execution_count": null,
   "id": "45c8fc0f",
   "metadata": {},
   "outputs": [],
   "source": []
  }
 ],
 "metadata": {
  "kernelspec": {
   "display_name": "venv",
   "language": "python",
   "name": "python3"
  },
  "language_info": {
   "codemirror_mode": {
    "name": "ipython",
    "version": 3
   },
   "file_extension": ".py",
   "mimetype": "text/x-python",
   "name": "python",
   "nbconvert_exporter": "python",
   "pygments_lexer": "ipython3",
   "version": "3.13.5"
  }
 },
 "nbformat": 4,
 "nbformat_minor": 5
}
